{
 "cells": [
  {
   "cell_type": "markdown",
   "metadata": {},
   "source": [
    "# 1.1\n",
    "\n",
    "Если данных много, и в каждый лист попадает достаточно объектов, то можно считать что среднее значение меток объектов в листе есть матожидание метки объекта, попадающего в этот лист. Тоже верно для среднего квадрата метки и его матожидания $ \\overline y = Ey $   $ \\overline{y^2} = Ey^2 $"
   ]
  },
  {
   "cell_type": "markdown",
   "metadata": {},
   "source": [
    "$ E(MSE) = E(y - \\hat y)^2$ <br>\n",
    "где $y$ - истинная метка объекта, а $\\hat y$ - то что вернул лист. $\\hat y$ и $y$ независимы<br>\n",
    "$ E(MSE) = Ey^2 - 2 E(y \\hat y) + E(\\hat y ^2) =  Ey^2 - 2 EyE\\hat y + E\\hat y ^2 = Ey^2 - 2 EyE\\hat y + D\\hat y ^2 + (E\\hat y)^2$ <br>\n",
    "$ \\hat y $ либо случайная метка в листе либо средняя метка. В любом случае $ E \\hat y = E y $ <br>\n",
    "$ E(MSE) = Ey^2 - 2 (Ey)^2 + D\\hat y ^2 + (Ey)^2 = Dy^2 + D\\hat y ^2 $ <br>\n",
    "В случае когда $\\hat y$ - среднее $D\\hat y = 0$ и MSE меньше "
   ]
  },
  {
   "cell_type": "markdown",
   "metadata": {},
   "source": [
    "# 1.2\n",
    "\n",
    "В обычных регрессионных деревьях, объекты в листьях разбиваются так, чтобы уменьшить дисперсию меток. Но если у меток будет небольшой разброс, то линейную модель строить нет смысла.\n",
    "\n",
    "Чтобы исправить ситуацию можно разбивать объекты так, чтобы максимизировать корелляцию между выбранным признаком и меткой. Например максимизировать такой критерий: $ S = corr(X_{left}^i, y_{left}) * \\frac{|X_{left}|}{|X|} + corr(X_{right}^i, y_{right}) * \\frac{|X_{right}|}{|X|} $"
   ]
  },
  {
   "cell_type": "markdown",
   "metadata": {},
   "source": [
    "# 1.3\n",
    "\n",
    "Пусть p(x) - плотность многомерного нормального распределения с вектором средних $\\mu$ и матрицей ковариаций  $\\Sigma = \\{q_{ij}\\}$ <br>\n",
    "$\\int p \\log p = E\\log p $ <br>\n",
    "$\\log p = -\\frac{n}{2}\\log(2\\pi) - \\frac{1}{2} \\log|\\Sigma| - \\frac{1}{2}(x-\\mu)^T\\Sigma^{-1}(x-\\mu)$ <br>\n",
    "$ E((x_i-\\mu_i)(x_j-\\mu_j)) = cov(x_i, x_j) = q_{ij} $\n",
    "$ E\\log p = -\\frac{n}{2}\\log(2\\pi) - \\frac{1}{2} \\log|\\Sigma| - \\frac{1}{2}\\sum{q_{ij}\\hat q_{ji}} $ <br>\n",
    "$ E\\log p = -\\frac{n}{2}\\log(2\\pi) - \\frac{1}{2} \\log|\\Sigma| - \\frac{1}{2}\\sum\\limits_{i}\\sum\\limits_{j} {q_{ij}\\hat q_{ji}} $ <br>\n",
    "$ E\\log p = -\\frac{n}{2}\\log(2\\pi) - \\frac{1}{2} \\log|\\Sigma| - \\frac{1}{2}\\sum\\limits_{i}1 $ ($ q_{ij}$ и $ \\hat q_{ji}$ - элементы обратных матриц) <br>\n",
    "$ E\\log p = -\\frac{n}{2}\\log(2\\pi) - \\frac{1}{2} \\log|\\Sigma| - \\frac{n}{2} $ <br>\n",
    "$ E\\log p = -\\log((2\\pi e)^\\frac{n}{2}|\\Sigma|^\\frac{1}{2}) $"
   ]
  },
  {
   "cell_type": "code",
   "execution_count": null,
   "metadata": {
    "collapsed": true
   },
   "outputs": [],
   "source": []
  }
 ],
 "metadata": {
  "kernelspec": {
   "display_name": "Python 2",
   "language": "python",
   "name": "python2"
  },
  "language_info": {
   "codemirror_mode": {
    "name": "ipython",
    "version": 2
   },
   "file_extension": ".py",
   "mimetype": "text/x-python",
   "name": "python",
   "nbconvert_exporter": "python",
   "pygments_lexer": "ipython2",
   "version": "2.7.11"
  }
 },
 "nbformat": 4,
 "nbformat_minor": 0
}
