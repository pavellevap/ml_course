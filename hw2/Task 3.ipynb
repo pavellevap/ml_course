{
 "cells": [
  {
   "cell_type": "code",
   "execution_count": 1,
   "metadata": {
    "collapsed": true
   },
   "outputs": [],
   "source": [
    "from sklearn.datasets import load_boston\n",
    "from sklearn.cross_validation import train_test_split\n",
    "from sklearn.metrics import mean_squared_error\n",
    "from sklearn.tree import DecisionTreeRegressor\n",
    "import numpy as np"
   ]
  },
  {
   "cell_type": "code",
   "execution_count": 2,
   "metadata": {
    "collapsed": false
   },
   "outputs": [],
   "source": [
    "class Decision:\n",
    "    def __init__(self, feature_index, threshold):\n",
    "        self.feature_index = feature_index\n",
    "        self.threshold = threshold\n",
    "\n",
    "class Node:\n",
    "    def __init__(self, y, decision, left_node, right_node):\n",
    "        self.value = np.mean(y)\n",
    "        self.decision = decision\n",
    "        self.left_node = left_node\n",
    "        self.right_node = right_node\n",
    "\n",
    "class RegressionDecisionTree:\n",
    "    def __init__(self, max_depth=10, criterion='mse'):\n",
    "        self.max_depth = max_depth\n",
    "        self.criterion = criterion\n",
    "        self.root = None\n",
    "    \n",
    "    def fit(self, X, y):\n",
    "        self.root = self._build_tree(X, y, 0)\n",
    "        \n",
    "    def predict(self, X):\n",
    "        return self._predict(X, self.root)\n",
    "        \n",
    "    def _build_tree(self, X, y, depth):\n",
    "        if depth == self.max_depth or len(X) < 2 or np.var(y) == 0:\n",
    "            return Node(y, None, None, None)\n",
    "\n",
    "        decision = self._get_best_decision(X, y)\n",
    "        l_X, l_y, r_X, r_y = self._split(decision, X, y)\n",
    "        \n",
    "        left_node = self._build_tree(l_X, l_y, depth + 1)\n",
    "        right_node = self._build_tree(r_X, r_y, depth + 1)\n",
    "        return Node(y, decision, left_node, right_node)\n",
    "        \n",
    "    def _split(self, decision, X, y):\n",
    "        l_index = X[:, decision.feature_index] <  decision.threshold\n",
    "        r_index = X[:, decision.feature_index] >= decision.threshold\n",
    "        \n",
    "        return X[l_index], y[l_index], X[r_index], y[r_index]\n",
    "        \n",
    "    def _get_best_decision(self, X, y):\n",
    "        best_value = None\n",
    "        best_decision = None\n",
    "        for feature_index in range(X.shape[1]):\n",
    "            sorted_index = np.argsort(X[:, feature_index])\n",
    "            l_y, r_y = y[sorted_index], []\n",
    "            for threshold_index in reversed(sorted_index):\n",
    "                # to avoid void arrays\n",
    "                if X[threshold_index, feature_index] == X[sorted_index[0], feature_index]:\n",
    "                    continue\n",
    "                \n",
    "                r_y.append(l_y[-1])\n",
    "                l_y = l_y[:-1]\n",
    "                \n",
    "                if self.criterion == 'mse':\n",
    "                    value = -(np.var(l_y) * len(l_y) + np.var(r_y) * len(r_y))\n",
    "                else:\n",
    "                    raise Exception('Unknown criterion')\n",
    "                    \n",
    "                if best_value is None or best_value < value:\n",
    "                    best_value = value\n",
    "                    best_decision = Decision(feature_index, X[threshold_index, feature_index])\n",
    "                    \n",
    "        return best_decision\n",
    "    \n",
    "    def _predict(self, X, node):\n",
    "        if node.decision is None:\n",
    "            return np.array([node.value] * len(X))\n",
    "        \n",
    "        l_X, l_index, r_X, r_index = self._split(node.decision, X, np.arange(len(X)))\n",
    "        y = np.zeros(len(X))\n",
    "        y[l_index] = self._predict(l_X, node.left_node)\n",
    "        y[r_index] = self._predict(r_X, node.right_node)\n",
    "        \n",
    "        return y"
   ]
  },
  {
   "cell_type": "code",
   "execution_count": 3,
   "metadata": {
    "collapsed": false
   },
   "outputs": [],
   "source": [
    "dataset = load_boston()"
   ]
  },
  {
   "cell_type": "code",
   "execution_count": 9,
   "metadata": {
    "collapsed": false
   },
   "outputs": [],
   "source": [
    "X_train, X_test, y_train, y_test = train_test_split(dataset.data, dataset.target, train_size=0.75)"
   ]
  },
  {
   "cell_type": "code",
   "execution_count": 10,
   "metadata": {
    "collapsed": false
   },
   "outputs": [],
   "source": [
    "model = RegressionDecisionTree(max_depth=5)"
   ]
  },
  {
   "cell_type": "code",
   "execution_count": 11,
   "metadata": {
    "collapsed": false
   },
   "outputs": [],
   "source": [
    "model.fit(X_train, y_train)"
   ]
  },
  {
   "cell_type": "code",
   "execution_count": 12,
   "metadata": {
    "collapsed": false
   },
   "outputs": [
    {
     "data": {
      "text/plain": [
       "19.051918364607918"
      ]
     },
     "execution_count": 12,
     "metadata": {},
     "output_type": "execute_result"
    }
   ],
   "source": [
    "mean_squared_error(y_test, model.predict(X_test))"
   ]
  },
  {
   "cell_type": "code",
   "execution_count": 13,
   "metadata": {
    "collapsed": false
   },
   "outputs": [
    {
     "data": {
      "text/plain": [
       "7.1826724510587203"
      ]
     },
     "execution_count": 13,
     "metadata": {},
     "output_type": "execute_result"
    }
   ],
   "source": [
    "mean_squared_error(y_train, model.predict(X_train))"
   ]
  },
  {
   "cell_type": "code",
   "execution_count": null,
   "metadata": {
    "collapsed": true
   },
   "outputs": [],
   "source": []
  },
  {
   "cell_type": "markdown",
   "metadata": {},
   "source": [
    "Сравним с деревом из sklearn"
   ]
  },
  {
   "cell_type": "code",
   "execution_count": 18,
   "metadata": {
    "collapsed": true
   },
   "outputs": [],
   "source": [
    "model = DecisionTreeRegressor(max_depth=5)"
   ]
  },
  {
   "cell_type": "code",
   "execution_count": 19,
   "metadata": {
    "collapsed": false
   },
   "outputs": [
    {
     "data": {
      "text/plain": [
       "DecisionTreeRegressor(criterion='mse', max_depth=5, max_features=None,\n",
       "           max_leaf_nodes=None, min_samples_leaf=1, min_samples_split=2,\n",
       "           min_weight_fraction_leaf=0.0, presort=False, random_state=None,\n",
       "           splitter='best')"
      ]
     },
     "execution_count": 19,
     "metadata": {},
     "output_type": "execute_result"
    }
   ],
   "source": [
    "model.fit(X_train, y_train)"
   ]
  },
  {
   "cell_type": "code",
   "execution_count": 20,
   "metadata": {
    "collapsed": false
   },
   "outputs": [
    {
     "data": {
      "text/plain": [
       "17.583344488029745"
      ]
     },
     "execution_count": 20,
     "metadata": {},
     "output_type": "execute_result"
    }
   ],
   "source": [
    "mean_squared_error(y_test, model.predict(X_test))"
   ]
  },
  {
   "cell_type": "code",
   "execution_count": 21,
   "metadata": {
    "collapsed": false
   },
   "outputs": [
    {
     "data": {
      "text/plain": [
       "7.0091164103417292"
      ]
     },
     "execution_count": 21,
     "metadata": {},
     "output_type": "execute_result"
    }
   ],
   "source": [
    "mean_squared_error(y_train, model.predict(X_train))"
   ]
  },
  {
   "cell_type": "markdown",
   "metadata": {},
   "source": [
    "Результат почти одинаков"
   ]
  },
  {
   "cell_type": "code",
   "execution_count": null,
   "metadata": {
    "collapsed": true
   },
   "outputs": [],
   "source": []
  }
 ],
 "metadata": {
  "kernelspec": {
   "display_name": "Python 2",
   "language": "python",
   "name": "python2"
  },
  "language_info": {
   "codemirror_mode": {
    "name": "ipython",
    "version": 2
   },
   "file_extension": ".py",
   "mimetype": "text/x-python",
   "name": "python",
   "nbconvert_exporter": "python",
   "pygments_lexer": "ipython2",
   "version": "2.7.11"
  }
 },
 "nbformat": 4,
 "nbformat_minor": 0
}
